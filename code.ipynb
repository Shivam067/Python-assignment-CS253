{
 "cells": [
  {
   "cell_type": "code",
   "execution_count": 2,
   "id": "initial_id",
   "metadata": {
    "ExecuteTime": {
     "end_time": "2024-04-12T16:23:51.146846400Z",
     "start_time": "2024-04-12T16:23:49.364282Z"
    },
    "collapsed": true
   },
   "outputs": [
    {
     "ename": "ModuleNotFoundError",
     "evalue": "No module named 'sklearn'",
     "output_type": "error",
     "traceback": [
      "\u001b[1;31m---------------------------------------------------------------------------\u001b[0m",
      "\u001b[1;31mModuleNotFoundError\u001b[0m                       Traceback (most recent call last)",
      "Input \u001b[1;32mIn [2]\u001b[0m, in \u001b[0;36m<cell line: 3>\u001b[1;34m()\u001b[0m\n\u001b[0;32m      1\u001b[0m \u001b[38;5;28;01mimport\u001b[39;00m \u001b[38;5;21;01mnumpy\u001b[39;00m \u001b[38;5;28;01mas\u001b[39;00m \u001b[38;5;21;01mnp\u001b[39;00m\n\u001b[0;32m      2\u001b[0m \u001b[38;5;28;01mimport\u001b[39;00m \u001b[38;5;21;01mpandas\u001b[39;00m \u001b[38;5;28;01mas\u001b[39;00m \u001b[38;5;21;01mpd\u001b[39;00m\n\u001b[1;32m----> 3\u001b[0m \u001b[38;5;28;01mfrom\u001b[39;00m \u001b[38;5;21;01msklearn\u001b[39;00m\u001b[38;5;21;01m.\u001b[39;00m\u001b[38;5;21;01mpreprocessing\u001b[39;00m \u001b[38;5;28;01mimport\u001b[39;00m LabelEncoder\n",
      "\u001b[1;31mModuleNotFoundError\u001b[0m: No module named 'sklearn'"
     ]
    }
   ],
   "source": [
    "import numpy as np\n",
    "import pandas as pd\n",
    "from sklearn.preprocessing import LabelEncoder"
   ]
  },
  {
   "cell_type": "code",
   "execution_count": null,
   "id": "a214fc7842f47d0e",
   "metadata": {
    "ExecuteTime": {
     "end_time": "2024-04-12T16:23:51.170021900Z",
     "start_time": "2024-04-12T16:23:51.149022300Z"
    },
    "collapsed": false
   },
   "outputs": [],
   "source": [
    "train_df = pd.read_csv(\"./train.csv\")\n",
    "test_df = pd.read_csv(\"./test.csv\")"
   ]
  },
  {
   "cell_type": "code",
   "execution_count": null,
   "id": "389d6cb35380d782",
   "metadata": {
    "ExecuteTime": {
     "end_time": "2024-04-12T16:23:51.248385400Z",
     "start_time": "2024-04-12T16:23:51.171183200Z"
    },
    "collapsed": false
   },
   "outputs": [
    {
     "data": {
      "text/html": [
       "<div>\n",
       "<style scoped>\n",
       "    .dataframe tbody tr th:only-of-type {\n",
       "        vertical-align: middle;\n",
       "    }\n",
       "\n",
       "    .dataframe tbody tr th {\n",
       "        vertical-align: top;\n",
       "    }\n",
       "\n",
       "    .dataframe thead th {\n",
       "        text-align: right;\n",
       "    }\n",
       "</style>\n",
       "<table border=\"1\" class=\"dataframe\">\n",
       "  <thead>\n",
       "    <tr style=\"text-align: right;\">\n",
       "      <th></th>\n",
       "      <th>ID</th>\n",
       "      <th>Candidate</th>\n",
       "      <th>Constituency ∇</th>\n",
       "      <th>Party</th>\n",
       "      <th>Criminal Case</th>\n",
       "      <th>Total Assets</th>\n",
       "      <th>Liabilities</th>\n",
       "      <th>state</th>\n",
       "      <th>Education</th>\n",
       "    </tr>\n",
       "  </thead>\n",
       "  <tbody>\n",
       "    <tr>\n",
       "      <th>0</th>\n",
       "      <td>0</td>\n",
       "      <td>M.K. Mohan</td>\n",
       "      <td>ANNA NAGAR</td>\n",
       "      <td>DMK</td>\n",
       "      <td>4</td>\n",
       "      <td>211 Crore+</td>\n",
       "      <td>2 Crore+</td>\n",
       "      <td>TAMIL NADU</td>\n",
       "      <td>8th Pass</td>\n",
       "    </tr>\n",
       "    <tr>\n",
       "      <th>1</th>\n",
       "      <td>1</td>\n",
       "      <td>Khatik Ramesh Prasad</td>\n",
       "      <td>KARERA (SC)</td>\n",
       "      <td>BJP</td>\n",
       "      <td>0</td>\n",
       "      <td>1 Crore+</td>\n",
       "      <td>0</td>\n",
       "      <td>MADHYA PRADESH</td>\n",
       "      <td>12th Pass</td>\n",
       "    </tr>\n",
       "    <tr>\n",
       "      <th>2</th>\n",
       "      <td>2</td>\n",
       "      <td>Dr. Mantar Gowda</td>\n",
       "      <td>MADIKERI</td>\n",
       "      <td>INC</td>\n",
       "      <td>0</td>\n",
       "      <td>7 Crore+</td>\n",
       "      <td>22 Lac+</td>\n",
       "      <td>KARNATAKA</td>\n",
       "      <td>Post Graduate</td>\n",
       "    </tr>\n",
       "    <tr>\n",
       "      <th>3</th>\n",
       "      <td>3</td>\n",
       "      <td>Kundan Kumar</td>\n",
       "      <td>BEGUSARAI</td>\n",
       "      <td>BJP</td>\n",
       "      <td>0</td>\n",
       "      <td>9 Crore+</td>\n",
       "      <td>24 Lac+</td>\n",
       "      <td>BIHAR</td>\n",
       "      <td>Post Graduate</td>\n",
       "    </tr>\n",
       "    <tr>\n",
       "      <th>4</th>\n",
       "      <td>4</td>\n",
       "      <td>Swapan Majumder</td>\n",
       "      <td>BANGAON DAKSHIN (SC)</td>\n",
       "      <td>BJP</td>\n",
       "      <td>2</td>\n",
       "      <td>2 Crore+</td>\n",
       "      <td>61 Lac+</td>\n",
       "      <td>WEST BENGAL</td>\n",
       "      <td>8th Pass</td>\n",
       "    </tr>\n",
       "    <tr>\n",
       "      <th>...</th>\n",
       "      <td>...</td>\n",
       "      <td>...</td>\n",
       "      <td>...</td>\n",
       "      <td>...</td>\n",
       "      <td>...</td>\n",
       "      <td>...</td>\n",
       "      <td>...</td>\n",
       "      <td>...</td>\n",
       "      <td>...</td>\n",
       "    </tr>\n",
       "    <tr>\n",
       "      <th>2054</th>\n",
       "      <td>2054</td>\n",
       "      <td>V. Sasi</td>\n",
       "      <td>CHIRAYINKEEZHU</td>\n",
       "      <td>CPI</td>\n",
       "      <td>1</td>\n",
       "      <td>61 Lac+</td>\n",
       "      <td>10 Lac+</td>\n",
       "      <td>KERALA</td>\n",
       "      <td>Graduate Professional</td>\n",
       "    </tr>\n",
       "    <tr>\n",
       "      <th>2055</th>\n",
       "      <td>2055</td>\n",
       "      <td>Pushkar Lal Dangi</td>\n",
       "      <td>MAVLI</td>\n",
       "      <td>INC</td>\n",
       "      <td>0</td>\n",
       "      <td>2 Crore+</td>\n",
       "      <td>8 Lac+</td>\n",
       "      <td>RAJASTHAN</td>\n",
       "      <td>10th Pass</td>\n",
       "    </tr>\n",
       "    <tr>\n",
       "      <th>2056</th>\n",
       "      <td>2056</td>\n",
       "      <td>Dr. Manju Shiwach</td>\n",
       "      <td>MODI NAGAR</td>\n",
       "      <td>BJP</td>\n",
       "      <td>0</td>\n",
       "      <td>13 Crore+</td>\n",
       "      <td>85 Lac+</td>\n",
       "      <td>UTTAR PRADESH</td>\n",
       "      <td>Graduate</td>\n",
       "    </tr>\n",
       "    <tr>\n",
       "      <th>2057</th>\n",
       "      <td>2057</td>\n",
       "      <td>Mansing Fattesingrao Naik</td>\n",
       "      <td>SHIRALA</td>\n",
       "      <td>NCP</td>\n",
       "      <td>1</td>\n",
       "      <td>25 Crore+</td>\n",
       "      <td>94 Lac+</td>\n",
       "      <td>MAHARASHTRA</td>\n",
       "      <td>12th Pass</td>\n",
       "    </tr>\n",
       "    <tr>\n",
       "      <th>2058</th>\n",
       "      <td>2058</td>\n",
       "      <td>Nyato Rigia</td>\n",
       "      <td>TALIHA</td>\n",
       "      <td>BJP</td>\n",
       "      <td>0</td>\n",
       "      <td>11 Lac+</td>\n",
       "      <td>0</td>\n",
       "      <td>ARUNACHAL PRADESH</td>\n",
       "      <td>Graduate</td>\n",
       "    </tr>\n",
       "  </tbody>\n",
       "</table>\n",
       "<p>2059 rows × 9 columns</p>\n",
       "</div>"
      ],
      "text/plain": [
       "        ID                  Candidate        Constituency ∇ Party  \\\n",
       "0        0                 M.K. Mohan            ANNA NAGAR   DMK   \n",
       "1        1       Khatik Ramesh Prasad           KARERA (SC)   BJP   \n",
       "2        2           Dr. Mantar Gowda              MADIKERI   INC   \n",
       "3        3               Kundan Kumar             BEGUSARAI   BJP   \n",
       "4        4            Swapan Majumder  BANGAON DAKSHIN (SC)   BJP   \n",
       "...    ...                        ...                   ...   ...   \n",
       "2054  2054                    V. Sasi        CHIRAYINKEEZHU   CPI   \n",
       "2055  2055          Pushkar Lal Dangi                 MAVLI   INC   \n",
       "2056  2056          Dr. Manju Shiwach            MODI NAGAR   BJP   \n",
       "2057  2057  Mansing Fattesingrao Naik               SHIRALA   NCP   \n",
       "2058  2058                Nyato Rigia                TALIHA   BJP   \n",
       "\n",
       "      Criminal Case Total Assets Liabilities              state  \\\n",
       "0                 4   211 Crore+    2 Crore+         TAMIL NADU   \n",
       "1                 0     1 Crore+           0     MADHYA PRADESH   \n",
       "2                 0     7 Crore+     22 Lac+          KARNATAKA   \n",
       "3                 0     9 Crore+     24 Lac+              BIHAR   \n",
       "4                 2     2 Crore+     61 Lac+        WEST BENGAL   \n",
       "...             ...          ...         ...                ...   \n",
       "2054              1      61 Lac+     10 Lac+             KERALA   \n",
       "2055              0     2 Crore+      8 Lac+          RAJASTHAN   \n",
       "2056              0    13 Crore+     85 Lac+      UTTAR PRADESH   \n",
       "2057              1    25 Crore+     94 Lac+        MAHARASHTRA   \n",
       "2058              0      11 Lac+           0  ARUNACHAL PRADESH   \n",
       "\n",
       "                  Education  \n",
       "0                  8th Pass  \n",
       "1                 12th Pass  \n",
       "2             Post Graduate  \n",
       "3             Post Graduate  \n",
       "4                  8th Pass  \n",
       "...                     ...  \n",
       "2054  Graduate Professional  \n",
       "2055              10th Pass  \n",
       "2056               Graduate  \n",
       "2057              12th Pass  \n",
       "2058               Graduate  \n",
       "\n",
       "[2059 rows x 9 columns]"
      ]
     },
     "execution_count": 3,
     "metadata": {},
     "output_type": "execute_result"
    }
   ],
   "source": [
    "train_df"
   ]
  },
  {
   "cell_type": "code",
   "execution_count": null,
   "id": "da906516c68ba301",
   "metadata": {
    "ExecuteTime": {
     "end_time": "2024-04-12T16:23:51.252376700Z",
     "start_time": "2024-04-12T16:23:51.231459900Z"
    },
    "collapsed": false
   },
   "outputs": [
    {
     "data": {
      "text/plain": [
       "array(['0', '1 Crore+', '1 Lac+', '10 Crore+', '10 Lac+', '102 Crore+',\n",
       "       '105 Crore+', '106 Crore+', '109 Crore+', '11 Crore+', '11 Lac+',\n",
       "       '110 Crore+', '111 Crore+', '112 Crore+', '115 Crore+',\n",
       "       '1156 Crore+', '12 Crore+', '12 Lac+', '122 Crore+', '1267 Crore+',\n",
       "       '128 Crore+', '13 Crore+', '13 Lac+', '134 Crore+', '135 Crore+',\n",
       "       '138 Crore+', '14 Crore+', '14 Lac+', '141 Crore+', '15 Crore+',\n",
       "       '15 Lac+', '15 Thou+', '159 Crore+', '16 Crore+', '16 Lac+',\n",
       "       '163 Crore+', '17 Crore+', '17 Lac+', '18 Crore+', '18 Lac+',\n",
       "       '18 Thou+', '183 Crore+', '187 Crore+', '189 Crore+', '19 Crore+',\n",
       "       '19 Lac+', '191 Crore+', '2 Crore+', '2 Lac+', '20 Crore+',\n",
       "       '20 Lac+', '21 Crore+', '21 Lac+', '211 Crore+', '22 Crore+',\n",
       "       '22 Lac+', '23 Crore+', '23 Lac+', '24 Crore+', '24 Lac+',\n",
       "       '24 Thou+', '242 Crore+', '25 Crore+', '25 Lac+', '26 Crore+',\n",
       "       '26 Lac+', '27 Crore+', '27 Lac+', '274 Crore+', '28 Crore+',\n",
       "       '28 Lac+', '29 Crore+', '29 Lac+', '293 Crore+', '296 Crore+',\n",
       "       '3 Crore+', '3 Lac+', '30 Crore+', '30 Thou+', '31 Crore+',\n",
       "       '31 Lac+', '312 Crore+', '313 Crore+', '32 Crore+', '32 Lac+',\n",
       "       '33 Crore+', '33 Lac+', '34 Crore+', '34 Lac+', '35 Crore+',\n",
       "       '35 Lac+', '36 Crore+', '36 Lac+', '363 Crore+', '37 Crore+',\n",
       "       '37 Lac+', '38 Crore+', '38 Lac+', '39 Crore+', '39 Lac+',\n",
       "       '4 Crore+', '4 Lac+', '40 Crore+', '40 Lac+', '41 Crore+',\n",
       "       '41 Lac+', '42 Crore+', '42 Lac+', '43 Crore+', '43 Lac+',\n",
       "       '44 Crore+', '44 Lac+', '45 Crore+', '45 Lac+', '46 Crore+',\n",
       "       '46 Lac+', '47 Lac+', '48 Crore+', '49 Crore+', '49 Lac+',\n",
       "       '5 Crore+', '5 Lac+', '50 Lac+', '500 Crore+', '51 Crore+',\n",
       "       '51 Lac+', '51 Thou+', '52 Crore+', '52 Lac+', '53 Crore+',\n",
       "       '53 Lac+', '54 Crore+', '54 Lac+', '55 Lac+', '56 Crore+',\n",
       "       '56 Lac+', '57 Lac+', '58 Crore+', '58 Lac+', '59 Crore+',\n",
       "       '59 Lac+', '6 Crore+', '6 Lac+', '60 Lac+', '61 Crore+', '61 Lac+',\n",
       "       '62 Crore+', '62 Lac+', '63 Crore+', '63 Lac+', '64 Crore+',\n",
       "       '64 Lac+', '65 Crore+', '65 Lac+', '66 Crore+', '66 Lac+',\n",
       "       '668 Crore+', '67 Crore+', '67 Lac+', '68 Crore+', '68 Lac+',\n",
       "       '69 Crore+', '7 Crore+', '70 Crore+', '70 Lac+', '71 Crore+',\n",
       "       '71 Lac+', '72 Crore+', '72 Lac+', '72 Thou+', '73 Lac+',\n",
       "       '73 Thou+', '74 Crore+', '74 Lac+', '75 Crore+', '75 Lac+',\n",
       "       '76 Lac+', '77 Lac+', '78 Lac+', '79 Crore+', '79 Lac+',\n",
       "       '8 Crore+', '8 Lac+', '80 Crore+', '80 Lac+', '81 Crore+',\n",
       "       '81 Lac+', '82 Lac+', '83 Lac+', '84 Crore+', '84 Lac+', '85 Lac+',\n",
       "       '86 Lac+', '87 Lac+', '88 Lac+', '89 Crore+', '89 Lac+',\n",
       "       '9 Crore+', '9 Lac+', '90 Lac+', '91 Lac+', '92 Crore+', '92 Lac+',\n",
       "       '93 Lac+', '94 Lac+', '95 Lac+', '96 Lac+', '97 Lac+', '98 Lac+',\n",
       "       '99 Lac+'], dtype=object)"
      ]
     },
     "execution_count": 4,
     "metadata": {},
     "output_type": "execute_result"
    }
   ],
   "source": [
    "np.unique(train_df[\"Total Assets\"])"
   ]
  },
  {
   "cell_type": "code",
   "execution_count": null,
   "id": "e9cc48fb4c8ad3d6",
   "metadata": {
    "ExecuteTime": {
     "end_time": "2024-04-12T16:23:51.314591200Z",
     "start_time": "2024-04-12T16:23:51.239106800Z"
    },
    "collapsed": false
   },
   "outputs": [
    {
     "name": "stdout",
     "output_type": "stream",
     "text": [
      "<class 'pandas.core.frame.DataFrame'>\n",
      "RangeIndex: 2059 entries, 0 to 2058\n",
      "Data columns (total 9 columns):\n",
      " #   Column          Non-Null Count  Dtype \n",
      "---  ------          --------------  ----- \n",
      " 0   ID              2059 non-null   int64 \n",
      " 1   Candidate       2059 non-null   object\n",
      " 2   Constituency ∇  2059 non-null   object\n",
      " 3   Party           2059 non-null   object\n",
      " 4   Criminal Case   2059 non-null   int64 \n",
      " 5   Total Assets    2059 non-null   object\n",
      " 6   Liabilities     2059 non-null   object\n",
      " 7   state           2059 non-null   object\n",
      " 8   Education       2059 non-null   object\n",
      "dtypes: int64(2), object(7)\n",
      "memory usage: 144.9+ KB\n"
     ]
    }
   ],
   "source": [
    "train_df.info()"
   ]
  },
  {
   "cell_type": "code",
   "execution_count": null,
   "id": "290e6d92db2dc801",
   "metadata": {
    "ExecuteTime": {
     "end_time": "2024-04-12T16:23:51.315591200Z",
     "start_time": "2024-04-12T16:23:51.282314400Z"
    },
    "collapsed": false
   },
   "outputs": [],
   "source": [
    "for col in ['state','Party']:\n",
    "    label_encoder = LabelEncoder()\n",
    "    train_df[col] = label_encoder.fit_transform(train_df[col])\n",
    "    test_df[col] = label_encoder.transform(test_df[col])"
   ]
  },
  {
   "cell_type": "code",
   "execution_count": null,
   "id": "83c8e091ea84d450",
   "metadata": {
    "ExecuteTime": {
     "end_time": "2024-04-12T16:23:51.380509Z",
     "start_time": "2024-04-12T16:23:51.296108100Z"
    },
    "collapsed": false
   },
   "outputs": [],
   "source": [
    "education_encoder = LabelEncoder()\n",
    "train_df[\"Education\"] = education_encoder.fit_transform(train_df[\"Education\"])"
   ]
  },
  {
   "cell_type": "code",
   "execution_count": null,
   "id": "799463e54dd8aaae",
   "metadata": {
    "ExecuteTime": {
     "end_time": "2024-04-12T16:23:51.434600700Z",
     "start_time": "2024-04-12T16:23:51.307592100Z"
    },
    "collapsed": false
   },
   "outputs": [
    {
     "data": {
      "text/plain": [
       "array(['AAKOLA WEST', 'ABDASA', 'ABHANPUR', ..., 'ZIRA', 'ZIRO HAPOLI',\n",
       "       'ZUNHEBOTO (ST)'], dtype=object)"
      ]
     },
     "execution_count": 8,
     "metadata": {},
     "output_type": "execute_result"
    }
   ],
   "source": [
    "constituency_categories = np.unique(np.append(train_df[\"Constituency ∇\"],test_df[\"Constituency ∇\"]))\n",
    "constituency_categories"
   ]
  },
  {
   "cell_type": "code",
   "execution_count": null,
   "id": "776a4f82bffc5eb3",
   "metadata": {
    "ExecuteTime": {
     "end_time": "2024-04-12T16:23:51.483137500Z",
     "start_time": "2024-04-12T16:23:51.320703700Z"
    },
    "collapsed": false
   },
   "outputs": [
    {
     "data": {
      "text/plain": [
       "{'', 'Crore+', 'Lac+', 'Thou+'}"
      ]
     },
     "execution_count": 9,
     "metadata": {},
     "output_type": "execute_result"
    }
   ],
   "source": [
    "unique_units = set()\n",
    "\n",
    "for value in test_df[\"Total Assets\"]:\n",
    "    unit = value.split()[1] if len(value.split()) > 1 else ''\n",
    "    unique_units.add(unit)\n",
    "    \n",
    "unique_units"
   ]
  },
  {
   "cell_type": "code",
   "execution_count": null,
   "id": "a262889923dd6c4",
   "metadata": {
    "ExecuteTime": {
     "end_time": "2024-04-12T16:23:51.484139800Z",
     "start_time": "2024-04-12T16:23:51.340616200Z"
    },
    "collapsed": false
   },
   "outputs": [],
   "source": [
    "def convert_to_float(value):\n",
    "    if not isinstance(value, str):\n",
    "        value = str(value)\n",
    "    if isinstance(value, str):\n",
    "        if 'Crore' in value:\n",
    "            return float(value.replace(' Crore+', ''))*100\n",
    "        elif 'Lac' in value:\n",
    "            return float(value.replace(' Lac+', ''))\n",
    "        elif 'Thou' in value:\n",
    "            return float(value.replace(' Thou+', '')) / 100\n",
    "        elif 'Hund' in value:\n",
    "            return float(value.replace(' Hund+', ''))/1000\n",
    "        else:\n",
    "            return float(value) / 100000\n",
    "    return value/100000"
   ]
  },
  {
   "cell_type": "code",
   "execution_count": null,
   "id": "679681c96f3eeb54",
   "metadata": {
    "ExecuteTime": {
     "end_time": "2024-04-12T16:23:51.660288300Z",
     "start_time": "2024-04-12T16:23:51.348607Z"
    },
    "collapsed": false
   },
   "outputs": [],
   "source": [
    "for col in ['Total Assets', 'Liabilities']:\n",
    "    train_df[col] = train_df[col].apply(convert_to_float)\n",
    "    test_df[col] = test_df[col].apply(convert_to_float)"
   ]
  },
  {
   "cell_type": "code",
   "execution_count": null,
   "id": "352cfc4a802f4795",
   "metadata": {
    "ExecuteTime": {
     "end_time": "2024-04-12T16:23:51.671741600Z",
     "start_time": "2024-04-12T16:23:51.365310300Z"
    },
    "collapsed": false
   },
   "outputs": [
    {
     "data": {
      "text/html": [
       "<div>\n",
       "<style scoped>\n",
       "    .dataframe tbody tr th:only-of-type {\n",
       "        vertical-align: middle;\n",
       "    }\n",
       "\n",
       "    .dataframe tbody tr th {\n",
       "        vertical-align: top;\n",
       "    }\n",
       "\n",
       "    .dataframe thead th {\n",
       "        text-align: right;\n",
       "    }\n",
       "</style>\n",
       "<table border=\"1\" class=\"dataframe\">\n",
       "  <thead>\n",
       "    <tr style=\"text-align: right;\">\n",
       "      <th></th>\n",
       "      <th>ID</th>\n",
       "      <th>Candidate</th>\n",
       "      <th>Constituency ∇</th>\n",
       "      <th>Party</th>\n",
       "      <th>Criminal Case</th>\n",
       "      <th>Total Assets</th>\n",
       "      <th>Liabilities</th>\n",
       "      <th>state</th>\n",
       "      <th>Education</th>\n",
       "    </tr>\n",
       "  </thead>\n",
       "  <tbody>\n",
       "    <tr>\n",
       "      <th>0</th>\n",
       "      <td>0</td>\n",
       "      <td>M.K. Mohan</td>\n",
       "      <td>ANNA NAGAR</td>\n",
       "      <td>7</td>\n",
       "      <td>4</td>\n",
       "      <td>21100.0</td>\n",
       "      <td>200.0</td>\n",
       "      <td>23</td>\n",
       "      <td>3</td>\n",
       "    </tr>\n",
       "    <tr>\n",
       "      <th>1</th>\n",
       "      <td>1</td>\n",
       "      <td>Khatik Ramesh Prasad</td>\n",
       "      <td>KARERA (SC)</td>\n",
       "      <td>4</td>\n",
       "      <td>0</td>\n",
       "      <td>100.0</td>\n",
       "      <td>0.0</td>\n",
       "      <td>13</td>\n",
       "      <td>1</td>\n",
       "    </tr>\n",
       "    <tr>\n",
       "      <th>2</th>\n",
       "      <td>2</td>\n",
       "      <td>Dr. Mantar Gowda</td>\n",
       "      <td>MADIKERI</td>\n",
       "      <td>8</td>\n",
       "      <td>0</td>\n",
       "      <td>700.0</td>\n",
       "      <td>22.0</td>\n",
       "      <td>11</td>\n",
       "      <td>9</td>\n",
       "    </tr>\n",
       "    <tr>\n",
       "      <th>3</th>\n",
       "      <td>3</td>\n",
       "      <td>Kundan Kumar</td>\n",
       "      <td>BEGUSARAI</td>\n",
       "      <td>4</td>\n",
       "      <td>0</td>\n",
       "      <td>900.0</td>\n",
       "      <td>24.0</td>\n",
       "      <td>3</td>\n",
       "      <td>9</td>\n",
       "    </tr>\n",
       "    <tr>\n",
       "      <th>4</th>\n",
       "      <td>4</td>\n",
       "      <td>Swapan Majumder</td>\n",
       "      <td>BANGAON DAKSHIN (SC)</td>\n",
       "      <td>4</td>\n",
       "      <td>2</td>\n",
       "      <td>200.0</td>\n",
       "      <td>61.0</td>\n",
       "      <td>27</td>\n",
       "      <td>3</td>\n",
       "    </tr>\n",
       "    <tr>\n",
       "      <th>...</th>\n",
       "      <td>...</td>\n",
       "      <td>...</td>\n",
       "      <td>...</td>\n",
       "      <td>...</td>\n",
       "      <td>...</td>\n",
       "      <td>...</td>\n",
       "      <td>...</td>\n",
       "      <td>...</td>\n",
       "      <td>...</td>\n",
       "    </tr>\n",
       "    <tr>\n",
       "      <th>2054</th>\n",
       "      <td>2054</td>\n",
       "      <td>V. Sasi</td>\n",
       "      <td>CHIRAYINKEEZHU</td>\n",
       "      <td>5</td>\n",
       "      <td>1</td>\n",
       "      <td>61.0</td>\n",
       "      <td>10.0</td>\n",
       "      <td>12</td>\n",
       "      <td>6</td>\n",
       "    </tr>\n",
       "    <tr>\n",
       "      <th>2055</th>\n",
       "      <td>2055</td>\n",
       "      <td>Pushkar Lal Dangi</td>\n",
       "      <td>MAVLI</td>\n",
       "      <td>8</td>\n",
       "      <td>0</td>\n",
       "      <td>200.0</td>\n",
       "      <td>8.0</td>\n",
       "      <td>21</td>\n",
       "      <td>0</td>\n",
       "    </tr>\n",
       "    <tr>\n",
       "      <th>2056</th>\n",
       "      <td>2056</td>\n",
       "      <td>Dr. Manju Shiwach</td>\n",
       "      <td>MODI NAGAR</td>\n",
       "      <td>4</td>\n",
       "      <td>0</td>\n",
       "      <td>1300.0</td>\n",
       "      <td>85.0</td>\n",
       "      <td>25</td>\n",
       "      <td>5</td>\n",
       "    </tr>\n",
       "    <tr>\n",
       "      <th>2057</th>\n",
       "      <td>2057</td>\n",
       "      <td>Mansing Fattesingrao Naik</td>\n",
       "      <td>SHIRALA</td>\n",
       "      <td>13</td>\n",
       "      <td>1</td>\n",
       "      <td>2500.0</td>\n",
       "      <td>94.0</td>\n",
       "      <td>14</td>\n",
       "      <td>1</td>\n",
       "    </tr>\n",
       "    <tr>\n",
       "      <th>2058</th>\n",
       "      <td>2058</td>\n",
       "      <td>Nyato Rigia</td>\n",
       "      <td>TALIHA</td>\n",
       "      <td>4</td>\n",
       "      <td>0</td>\n",
       "      <td>11.0</td>\n",
       "      <td>0.0</td>\n",
       "      <td>1</td>\n",
       "      <td>5</td>\n",
       "    </tr>\n",
       "  </tbody>\n",
       "</table>\n",
       "<p>2059 rows × 9 columns</p>\n",
       "</div>"
      ],
      "text/plain": [
       "        ID                  Candidate        Constituency ∇  Party  \\\n",
       "0        0                 M.K. Mohan            ANNA NAGAR      7   \n",
       "1        1       Khatik Ramesh Prasad           KARERA (SC)      4   \n",
       "2        2           Dr. Mantar Gowda              MADIKERI      8   \n",
       "3        3               Kundan Kumar             BEGUSARAI      4   \n",
       "4        4            Swapan Majumder  BANGAON DAKSHIN (SC)      4   \n",
       "...    ...                        ...                   ...    ...   \n",
       "2054  2054                    V. Sasi        CHIRAYINKEEZHU      5   \n",
       "2055  2055          Pushkar Lal Dangi                 MAVLI      8   \n",
       "2056  2056          Dr. Manju Shiwach            MODI NAGAR      4   \n",
       "2057  2057  Mansing Fattesingrao Naik               SHIRALA     13   \n",
       "2058  2058                Nyato Rigia                TALIHA      4   \n",
       "\n",
       "      Criminal Case  Total Assets  Liabilities  state  Education  \n",
       "0                 4       21100.0        200.0     23          3  \n",
       "1                 0         100.0          0.0     13          1  \n",
       "2                 0         700.0         22.0     11          9  \n",
       "3                 0         900.0         24.0      3          9  \n",
       "4                 2         200.0         61.0     27          3  \n",
       "...             ...           ...          ...    ...        ...  \n",
       "2054              1          61.0         10.0     12          6  \n",
       "2055              0         200.0          8.0     21          0  \n",
       "2056              0        1300.0         85.0     25          5  \n",
       "2057              1        2500.0         94.0     14          1  \n",
       "2058              0          11.0          0.0      1          5  \n",
       "\n",
       "[2059 rows x 9 columns]"
      ]
     },
     "execution_count": 12,
     "metadata": {},
     "output_type": "execute_result"
    }
   ],
   "source": [
    "train_df"
   ]
  },
  {
   "cell_type": "code",
   "execution_count": null,
   "id": "4630662ec053c53c",
   "metadata": {
    "ExecuteTime": {
     "end_time": "2024-04-12T16:23:51.672782500Z",
     "start_time": "2024-04-12T16:23:51.385512400Z"
    },
    "collapsed": false
   },
   "outputs": [
    {
     "name": "stdout",
     "output_type": "stream",
     "text": [
      "<class 'pandas.core.frame.DataFrame'>\n",
      "RangeIndex: 2059 entries, 0 to 2058\n",
      "Data columns (total 9 columns):\n",
      " #   Column          Non-Null Count  Dtype  \n",
      "---  ------          --------------  -----  \n",
      " 0   ID              2059 non-null   int64  \n",
      " 1   Candidate       2059 non-null   object \n",
      " 2   Constituency ∇  2059 non-null   object \n",
      " 3   Party           2059 non-null   int32  \n",
      " 4   Criminal Case   2059 non-null   int64  \n",
      " 5   Total Assets    2059 non-null   float64\n",
      " 6   Liabilities     2059 non-null   float64\n",
      " 7   state           2059 non-null   int32  \n",
      " 8   Education       2059 non-null   int32  \n",
      "dtypes: float64(2), int32(3), int64(2), object(2)\n",
      "memory usage: 120.8+ KB\n"
     ]
    }
   ],
   "source": [
    "train_df.info()"
   ]
  },
  {
   "cell_type": "code",
   "execution_count": null,
   "id": "5ead0e9749818f4c",
   "metadata": {
    "ExecuteTime": {
     "end_time": "2024-04-12T16:23:51.672782500Z",
     "start_time": "2024-04-12T16:23:51.400563Z"
    },
    "collapsed": false
   },
   "outputs": [],
   "source": []
  },
  {
   "cell_type": "code",
   "execution_count": null,
   "id": "73b3820ca6b89246",
   "metadata": {
    "ExecuteTime": {
     "end_time": "2024-04-12T16:23:51.753715Z",
     "start_time": "2024-04-12T16:23:51.406574900Z"
    },
    "collapsed": false
   },
   "outputs": [],
   "source": [
    "from sklearn.ensemble import RandomForestClassifier\n",
    "from sklearn.model_selection import train_test_split\n",
    "from sklearn.metrics import accuracy_score\n"
   ]
  },
  {
   "cell_type": "code",
   "execution_count": null,
   "id": "db4040075418aa02",
   "metadata": {
    "ExecuteTime": {
     "end_time": "2024-04-12T16:23:51.754716300Z",
     "start_time": "2024-04-12T16:23:51.649271800Z"
    },
    "collapsed": false
   },
   "outputs": [],
   "source": [
    "x = train_df[[\"Party\",\"Criminal Case\",\"Total Assets\",\"Liabilities\",\"state\"]]\n",
    "y = train_df[\"Education\"]"
   ]
  },
  {
   "cell_type": "code",
   "execution_count": null,
   "id": "5774f32dd7784063",
   "metadata": {
    "ExecuteTime": {
     "end_time": "2024-04-12T16:23:51.779285500Z",
     "start_time": "2024-04-12T16:23:51.658042100Z"
    },
    "collapsed": false
   },
   "outputs": [],
   "source": [
    "x_test = test_df[[\"Party\",\"Criminal Case\",\"Total Assets\",\"Liabilities\",\"state\"]]"
   ]
  },
  {
   "cell_type": "code",
   "execution_count": null,
   "id": "e9aa54d01e466b4f",
   "metadata": {
    "ExecuteTime": {
     "end_time": "2024-04-12T16:23:52.282254700Z",
     "start_time": "2024-04-12T16:23:51.688159100Z"
    },
    "collapsed": false
   },
   "outputs": [],
   "source": [
    "rf_classifier = RandomForestClassifier(n_estimators=70, random_state=20)\n",
    "\n",
    "rf_classifier.fit(x, y)\n",
    "\n",
    "y_pred = rf_classifier.predict(x_test)\n"
   ]
  },
  {
   "cell_type": "code",
   "execution_count": null,
   "id": "156cba8162f8adef",
   "metadata": {
    "ExecuteTime": {
     "end_time": "2024-04-12T16:23:52.302026300Z",
     "start_time": "2024-04-12T16:23:52.284254900Z"
    },
    "collapsed": false
   },
   "outputs": [
    {
     "data": {
      "text/plain": [
       "array([1, 3, 1, ..., 9, 6, 9])"
      ]
     },
     "execution_count": 18,
     "metadata": {},
     "output_type": "execute_result"
    }
   ],
   "source": [
    "y_pred"
   ]
  },
  {
   "cell_type": "code",
   "execution_count": null,
   "id": "f562c9eb10cd178f",
   "metadata": {
    "ExecuteTime": {
     "end_time": "2024-04-12T16:23:52.317854500Z",
     "start_time": "2024-04-12T16:23:52.296413300Z"
    },
    "collapsed": false
   },
   "outputs": [],
   "source": [
    "y_pred = education_encoder.inverse_transform(y_pred)"
   ]
  },
  {
   "cell_type": "code",
   "execution_count": null,
   "id": "aac417c324858d18",
   "metadata": {
    "ExecuteTime": {
     "end_time": "2024-04-12T16:23:52.318839400Z",
     "start_time": "2024-04-12T16:23:52.306846900Z"
    },
    "collapsed": false
   },
   "outputs": [
    {
     "data": {
      "text/plain": [
       "(1374,)"
      ]
     },
     "execution_count": 20,
     "metadata": {},
     "output_type": "execute_result"
    }
   ],
   "source": [
    "y_pred.shape"
   ]
  },
  {
   "cell_type": "code",
   "execution_count": null,
   "id": "524ef21600d8edda",
   "metadata": {
    "ExecuteTime": {
     "end_time": "2024-04-12T16:23:52.373660500Z",
     "start_time": "2024-04-12T16:23:52.318839400Z"
    },
    "collapsed": false
   },
   "outputs": [],
   "source": [
    "submission_df = pd.DataFrame({'ID': test_df['ID'], 'Education': y_pred})\n",
    "submission_df.to_csv('./my_submission.csv', index=False)"
   ]
  },
  {
   "cell_type": "code",
   "execution_count": null,
   "id": "143a3b3156661bc2",
   "metadata": {
    "ExecuteTime": {
     "end_time": "2024-04-12T16:23:52.374665Z",
     "start_time": "2024-04-12T16:23:52.333681Z"
    },
    "collapsed": false
   },
   "outputs": [],
   "source": []
  }
 ],
 "metadata": {
  "kernelspec": {
   "display_name": "Python 3",
   "language": "python",
   "name": "python3"
  },
  "language_info": {
   "codemirror_mode": {
    "name": "ipython",
    "version": 3
   },
   "file_extension": ".py",
   "mimetype": "text/x-python",
   "name": "python",
   "nbconvert_exporter": "python",
   "pygments_lexer": "ipython3",
   "version": "3.10.4"
  }
 },
 "nbformat": 4,
 "nbformat_minor": 5
}
